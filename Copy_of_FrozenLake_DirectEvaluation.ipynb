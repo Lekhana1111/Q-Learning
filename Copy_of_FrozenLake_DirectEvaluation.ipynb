{
  "nbformat": 4,
  "nbformat_minor": 0,
  "metadata": {
    "colab": {
      "provenance": []
    },
    "kernelspec": {
      "name": "python3",
      "display_name": "Python 3"
    },
    "language_info": {
      "name": "python"
    }
  },
  "cells": [
    {
      "cell_type": "markdown",
      "source": [
        "# Frozen Lake w/ Value Iteration & Direct Evaluation"
      ],
      "metadata": {
        "id": "rTwoHidK7QXR"
      }
    },
    {
      "cell_type": "markdown",
      "source": [
        "## Frozen Lake Domain Description\n",
        "\n",
        "Frozen Lake is a simple grid-world environment where an agent navigates a frozen lake to reach a goal while avoiding falling into holes. The environment is represented as a grid, with each cell being one of the following:\n",
        "\n",
        "* **S**: Starting position of the agent\n",
        "* **F**: Frozen surface, safe to walk on\n",
        "* **H**: Hole, falling into one ends the episode with a reward of 0\n",
        "* **G**: Goal, reaching it ends the episode with a reward of 1\n",
        "\n",
        "The agent can take four actions:\n",
        "\n",
        "* **0: Left**\n",
        "* **1: Down**\n",
        "* **2: Right**\n",
        "* **3: Up**\n",
        "\n",
        "However, due to the slippery nature of the ice, the agent might not always move in the intended direction. There's a chance it moves perpendicular to the intended direction.\n",
        "\n",
        "\n"
      ],
      "metadata": {
        "id": "hzTUHNC0Oien"
      }
    },
    {
      "cell_type": "code",
      "execution_count": null,
      "metadata": {
        "id": "nKf_jjk9OgN1",
        "colab": {
          "base_uri": "https://localhost:8080/"
        },
        "outputId": "4e96932e-6e60-4019-f940-2e60b4e5a489"
      },
      "outputs": [
        {
          "output_type": "stream",
          "name": "stdout",
          "text": [
            "  (Up)\n",
            "\u001b[41mS\u001b[0mFFF\n",
            "FHFH\n",
            "FFFH\n",
            "HFFG\n",
            "\n"
          ]
        },
        {
          "output_type": "stream",
          "name": "stderr",
          "text": [
            "/usr/local/lib/python3.10/dist-packages/gym/core.py:317: DeprecationWarning: \u001b[33mWARN: Initializing wrapper in old step API which returns one bool instead of two. It is recommended to set `new_step_api=True` to use new step API. This will be the default behaviour in future.\u001b[0m\n",
            "  deprecation(\n",
            "/usr/local/lib/python3.10/dist-packages/gym/wrappers/step_api_compatibility.py:39: DeprecationWarning: \u001b[33mWARN: Initializing environment in old step API which returns one bool instead of two. It is recommended to set `new_step_api=True` to use new step API. This will be the default behaviour in future.\u001b[0m\n",
            "  deprecation(\n",
            "/usr/local/lib/python3.10/dist-packages/gym/utils/passive_env_checker.py:241: DeprecationWarning: `np.bool8` is a deprecated alias for `np.bool_`.  (Deprecated NumPy 1.24)\n",
            "  if not isinstance(terminated, (bool, np.bool8)):\n"
          ]
        }
      ],
      "source": [
        "import gym\n",
        "\n",
        "# Create the environment\n",
        "env = gym.make('FrozenLake-v1', render_mode='ansi')  # 'ansi' mode for text-based rendering\n",
        "\n",
        "# Reset the environment to the initial state\n",
        "observation = env.reset()\n",
        "\n",
        "# Take a few actions and observe the results\n",
        "for _ in range(5):\n",
        "    action = env.action_space.sample()  # Choose a random action\n",
        "    observation, reward, done, info = env.step(action)\n",
        "    # Render the environment to see the agent's movement (text-based)\n",
        "    if done:\n",
        "        observation= env.reset()\n",
        "    else:\n",
        "      rendered = env.render()\n",
        "      if len(rendered) > 1:  # Check if there's a second element\n",
        "         print(rendered[1])  # Print the second element\n",
        "# Close the environment\n",
        "env.close()"
      ]
    },
    {
      "cell_type": "markdown",
      "source": [
        "The transition model for the Frozen Lake world describes how the agent's actions affect its movement and the resulting state transitions. Here's a breakdown of the key components:\n",
        "\n",
        "**Actions:**\n",
        "\n",
        "* The agent can choose from four actions:\n",
        "    * 0: Left\n",
        "    * 1: Down\n",
        "    * 2: Right\n",
        "    * 3: Up\n",
        "\n",
        "**State Transitions:**\n",
        "\n",
        "* **Intended Movement:** Ideally, the agent moves one cell in the chosen direction.\n",
        "* **Slippery Ice:** Due to the slippery nature of the ice, there's a probability that the agent will move in a perpendicular direction instead of the intended one. The exact probabilities depend on the specific Frozen Lake environment configuration, but typically:\n",
        "    * **Successful Move:** The agent moves in the intended direction with a high probability.\n",
        "    * **Perpendicular Move:** The agent moves 90 degrees to the left or right of the intended direction with a lower probability.\n",
        "* **Boundaries:** If the intended movement would take the agent outside the grid boundaries, it remains in its current position.\n",
        "* **Holes:** If the agent lands on a hole (\"H\"), the episode ends, and it receives a reward of 0.\n",
        "* **Goal:** If the agent reaches the goal (\"G\"), the episode ends, and it receives a reward of 1.\n",
        "\n",
        "\n"
      ],
      "metadata": {
        "id": "R_q5-OvYOldL"
      }
    },
    {
      "cell_type": "code",
      "source": [
        "import gym\n",
        "\n",
        "# Create the environment\n",
        "env = gym.make('FrozenLake-v1', render_mode='ansi')  # 'ansi' mode for text-based rendering\n",
        "\n",
        "# Reset the environment to the initial state\n",
        "observation = env.reset()\n",
        "\n",
        "# Take a few actions and observe the results\n",
        "for _ in range(5):\n",
        "    action = env.action_space.sample()  # Choose a random action\n",
        "    observation, reward, done, info = env.step(action)\n",
        "    # Render the environment to see the agent's movement (text-based)\n",
        "    if done:\n",
        "        observation= env.reset()\n",
        "    else:\n",
        "      rendered = env.render()\n",
        "      if len(rendered) > 1:  # Check if there's a second element\n",
        "         print(rendered[1])  # Print the second element\n",
        "# Close the environment\n",
        "env.close()\n",
        "print (\"State 14 Going Right: (s, a, r, Done)\", env.P[14][2])"
      ],
      "metadata": {
        "colab": {
          "base_uri": "https://localhost:8080/"
        },
        "id": "E7nU_-9uaOQR",
        "outputId": "d8945d57-9d9a-47ce-876e-7e21ab5692b8"
      },
      "execution_count": null,
      "outputs": [
        {
          "output_type": "stream",
          "name": "stdout",
          "text": [
            "  (Left)\n",
            "\u001b[41mS\u001b[0mFFF\n",
            "FHFH\n",
            "FFFH\n",
            "HFFG\n",
            "\n",
            "State 14 Going Right: (s, a, r, Done) [(0.3333333333333333, 14, 0.0, False), (0.3333333333333333, 15, 1.0, True), (0.3333333333333333, 10, 0.0, False)]\n"
          ]
        },
        {
          "output_type": "stream",
          "name": "stderr",
          "text": [
            "/usr/local/lib/python3.10/dist-packages/ipykernel/ipkernel.py:283: DeprecationWarning: `should_run_async` will not call `transform_cell` automatically in the future. Please pass the result to `transformed_cell` argument and any exception that happen during thetransform in `preprocessing_exc_tuple` in IPython 7.17 and above.\n",
            "  and should_run_async(code)\n"
          ]
        }
      ]
    },
    {
      "cell_type": "markdown",
      "source": [
        "# Value Iteration"
      ],
      "metadata": {
        "id": "lompMKJo2O2R"
      }
    },
    {
      "cell_type": "code",
      "source": [
        "import gym\n",
        "import numpy as np\n",
        "\n",
        "def value_iteration(env, gamma=0.9, num_iterations=1000, theta=0.0001):\n",
        "    \"\"\"\n",
        "    Implements the Value Iteration algorithm.\n",
        "\n",
        "    Args:\n",
        "        env: The OpenAI Gym environment.\n",
        "        gamma: Discount factor.\n",
        "        num_iterations: Number of iterations to run.\n",
        "\n",
        "    Returns:\n",
        "        The optimal value function and policy.\n",
        "    \"\"\"\n",
        "    # Initialize value function and policy\n",
        "    V = np.zeros(env.observation_space.n)\n",
        "    policy = np.zeros(env.observation_space.n, dtype=int)\n",
        "\n",
        "    for _ in range(num_iterations):\n",
        "        delta = 0\n",
        "        V_prev = V.copy()\n",
        "        for s in range(env.observation_space.n):\n",
        "            v = V[s]\n",
        "            action_values = []  # Store Q values for all actions in this state\n",
        "\n",
        "            for a in range(env.action_space.n):\n",
        "                q_value = 0\n",
        "                for prob, next_state, reward, done in env.P[s][a]:\n",
        "                    q_value += prob * (reward + gamma * V_prev[next_state])\n",
        "                action_values.append(q_value)\n",
        "\n",
        "            # Update V[s] with the max Q value\n",
        "            V[s] = max(action_values)\n",
        "            # Update policy[s] with the action that maximizes Q value\n",
        "            policy[s] = np.argmax(action_values)\n",
        "\n",
        "            delta = max(delta, abs(v - V[s]))\n",
        "        if delta < theta and 0:\n",
        "            break\n",
        "        V_prev = V.copy()\n",
        "\n",
        "    return V, policy\n",
        "\n",
        "# Create the environment\n",
        "env = gym.make('FrozenLake-v1', render_mode='ansi')  # 'ansi' mode for text-based rendering\n",
        "\n",
        "# Reset the environment to the initial state\n",
        "observation = env.reset()\n",
        "\n",
        "# Apply student's Value Iteration\n",
        "optimal_V, optimal_policy = value_iteration(env)\n",
        "print (f\"optimal policy= \\n{optimal_policy.reshape((4,4))}\\n optimal_V=\\n{np.round(optimal_V.reshape((4,4)), 2)}\")\n",
        "\n",
        "# Evaluate student's solution (Optional)\n",
        "def evaluate_policy(env, policy, num_episodes=100):\n",
        "    total_reward = 0\n",
        "    for _ in range(num_episodes):\n",
        "        state = env.reset()\n",
        "        done = False\n",
        "        while not done:\n",
        "            action = policy[state]\n",
        "            state, reward, done, _ =  env.step(action)\n",
        "            total_reward += reward\n",
        "    return total_reward / num_episodes\n",
        "\n",
        "average_reward = evaluate_policy(env, optimal_policy)\n",
        "print(\"Average Reward:\", average_reward)"
      ],
      "metadata": {
        "colab": {
          "base_uri": "https://localhost:8080/"
        },
        "id": "3_kv_pwvY4YR",
        "outputId": "b2d48b29-a344-4983-ae3f-d8ef4281840b"
      },
      "execution_count": null,
      "outputs": [
        {
          "output_type": "stream",
          "name": "stdout",
          "text": [
            "optimal policy= \n",
            "[[0 3 0 3]\n",
            " [0 0 0 0]\n",
            " [3 1 0 0]\n",
            " [0 2 1 0]]\n",
            " optimal_V=\n",
            "[[0.07 0.06 0.07 0.06]\n",
            " [0.09 0.   0.11 0.  ]\n",
            " [0.15 0.25 0.3  0.  ]\n",
            " [0.   0.38 0.64 0.  ]]\n",
            "Average Reward: 0.72\n"
          ]
        }
      ]
    },
    {
      "cell_type": "markdown",
      "source": [
        "# Policy Extraction & Policy Evaluation"
      ],
      "metadata": {
        "id": "9Xc8WhLW2Spz"
      }
    },
    {
      "cell_type": "code",
      "source": [
        "def policy_extraction(env, V, gamma=0.9):\n",
        "  policy = np.zeros(env.observation_space.n, dtype=int)\n",
        "  for s in range(env.observation_space.n):\n",
        "      v = V[s]\n",
        "      action_values = []  # Store Q values for all actions in this state\n",
        "\n",
        "      for a in range(env.action_space.n):\n",
        "          q_value = 0\n",
        "          for prob, next_state, reward, done in env.P[s][a]:\n",
        "              q_value += prob * (reward + gamma * V[next_state])\n",
        "          action_values.append(q_value)\n",
        "\n",
        "      # Update policy[s] with the action that maximizes Q value\n",
        "      policy[s] = np.argmax(action_values)\n",
        "  return policy\n",
        "\n",
        "def policy_evaluation(env, policy, gamma=0.9, num_iterations=1000, theta=0.0001):\n",
        "    \"\"\"\n",
        "    Implements the Value Iteration algorithm.\n",
        "\n",
        "    Args:\n",
        "        env: The OpenAI Gym environment.\n",
        "        gamma: Discount factor.\n",
        "        num_iterations: Number of iterations to run.\n",
        "\n",
        "    Returns:\n",
        "        The optimal value function and policy.\n",
        "    \"\"\"\n",
        "    # Initialize value function and policy\n",
        "    V = np.zeros(env.observation_space.n)\n",
        "    for _ in range(num_iterations):\n",
        "        delta = 0\n",
        "        V_prev = V.copy()\n",
        "        for s in range(env.observation_space.n):\n",
        "            v = V[s]\n",
        "            a = policy[s]\n",
        "            q_value = 0\n",
        "            for prob, next_state, reward, done in env.P[s][a]:\n",
        "                q_value += prob * (reward + gamma * V_prev[next_state])\n",
        "            # Update V[s] with the max Q value\n",
        "            V[s] = q_value\n",
        "\n",
        "            delta = max(delta, abs(v - V[s]))\n",
        "        if delta < theta and 0:\n",
        "            break\n",
        "        V_prev = V.copy()\n",
        "    return V"
      ],
      "metadata": {
        "id": "XFUHBMc1kiOr"
      },
      "execution_count": null,
      "outputs": []
    },
    {
      "cell_type": "code",
      "source": [
        "V_policy_evalution = policy_evaluation(env, optimal_policy)\n",
        "print (f\"V_policy_evalution=\\n{V_policy_evalution}\")\n",
        "V_policy = policy_extraction(env, V_policy_evalution)\n",
        "print (f\"optimal policy= \\n{optimal_policy.reshape((4,4))}\\n V_policy=\\n{V_policy.reshape((4,4))}\")"
      ],
      "metadata": {
        "id": "_ZxtAYnEmeIS",
        "outputId": "faa24cc2-0a30-447d-ada6-2e9a61b27f7c",
        "colab": {
          "base_uri": "https://localhost:8080/"
        }
      },
      "execution_count": null,
      "outputs": [
        {
          "output_type": "stream",
          "name": "stdout",
          "text": [
            "V_policy_evalution=\n",
            "[0.0688909  0.06141457 0.07440976 0.05580732 0.09185454 0.\n",
            " 0.11220821 0.         0.14543635 0.24749695 0.29961759 0.\n",
            " 0.         0.3799359  0.63902015 0.        ]\n",
            "optimal policy= \n",
            "[[0 3 0 3]\n",
            " [0 0 0 0]\n",
            " [3 1 0 0]\n",
            " [0 2 1 0]]\n",
            " V_policy=\n",
            "[[0 3 0 3]\n",
            " [0 0 0 0]\n",
            " [3 1 0 0]\n",
            " [0 2 1 0]]\n"
          ]
        }
      ]
    },
    {
      "cell_type": "markdown",
      "source": [
        "# Reinforcement Learning"
      ],
      "metadata": {
        "id": "4-nohV0on3fG"
      }
    },
    {
      "cell_type": "code",
      "source": [
        "env.reset(seed=42)\n",
        "init_policy = np.array([0, 3, 0, 3, 0, 0, 0, 0, 3, 1, 0, 0, 0, 2, 1, 0])\n",
        "print (f\"optimal policy= \\n{init_policy.reshape((4,4))}\")"
      ],
      "metadata": {
        "colab": {
          "base_uri": "https://localhost:8080/"
        },
        "id": "d9uKUHB9o2dr",
        "outputId": "b9b98dc2-f94b-44d8-a667-b07e4f9014b7"
      },
      "execution_count": null,
      "outputs": [
        {
          "output_type": "stream",
          "name": "stdout",
          "text": [
            "optimal policy= \n",
            "[[0 3 0 3]\n",
            " [0 0 0 0]\n",
            " [3 1 0 0]\n",
            " [0 2 1 0]]\n"
          ]
        }
      ]
    },
    {
      "cell_type": "code",
      "source": [
        "def GenerateEpisodes(env, policy, num_episodes=5):\n",
        "    total_reward = 0\n",
        "    episodes = []\n",
        "    for _ in range(num_episodes):\n",
        "        state = env.reset()\n",
        "        done = False\n",
        "        episode = []\n",
        "        while not done:\n",
        "            action = policy[state]\n",
        "            newstate, reward, done, _ = env.step(action)\n",
        "            episode.append((int(state), action, newstate, reward))\n",
        "            state = newstate\n",
        "        episodes.append(episode)\n",
        "    return episodes\n",
        "\n",
        "training_episodes = GenerateEpisodes(env, init_policy)\n",
        "for i, e in enumerate(training_episodes):\n",
        "  print (f\"training_episode=({i=}):\\n{e}\")\n",
        "\n",
        "training_episodes2 = GenerateEpisodes(env, init_policy, 1000)"
      ],
      "metadata": {
        "colab": {
          "base_uri": "https://localhost:8080/"
        },
        "id": "htwNCLIJpo16",
        "outputId": "1aa3a63b-61a4-4d88-bf9d-0fc9596c8cd1"
      },
      "execution_count": null,
      "outputs": [
        {
          "output_type": "stream",
          "name": "stdout",
          "text": [
            "training_episode=(i=0):\n",
            "[(0, 0, 4, 0.0), (4, 0, 8, 0.0), (8, 3, 9, 0.0), (9, 1, 10, 0.0), (10, 0, 14, 0.0), (14, 1, 15, 1.0)]\n",
            "training_episode=(i=1):\n",
            "[(0, 0, 0, 0.0), (0, 0, 0, 0.0), (0, 0, 4, 0.0), (4, 0, 4, 0.0), (4, 0, 8, 0.0), (8, 3, 4, 0.0), (4, 0, 0, 0.0), (0, 0, 0, 0.0), (0, 0, 0, 0.0), (0, 0, 4, 0.0), (4, 0, 4, 0.0), (4, 0, 8, 0.0), (8, 3, 4, 0.0), (4, 0, 8, 0.0), (8, 3, 8, 0.0), (8, 3, 8, 0.0), (8, 3, 9, 0.0), (9, 1, 13, 0.0), (13, 2, 13, 0.0), (13, 2, 13, 0.0), (13, 2, 9, 0.0), (9, 1, 10, 0.0), (10, 0, 14, 0.0), (14, 1, 13, 0.0), (13, 2, 14, 0.0), (14, 1, 14, 0.0), (14, 1, 13, 0.0), (13, 2, 13, 0.0), (13, 2, 14, 0.0), (14, 1, 13, 0.0), (13, 2, 9, 0.0), (9, 1, 13, 0.0), (13, 2, 9, 0.0), (9, 1, 10, 0.0), (10, 0, 6, 0.0), (6, 0, 10, 0.0), (10, 0, 14, 0.0), (14, 1, 14, 0.0), (14, 1, 13, 0.0), (13, 2, 9, 0.0), (9, 1, 8, 0.0), (8, 3, 9, 0.0), (9, 1, 8, 0.0), (8, 3, 8, 0.0), (8, 3, 4, 0.0), (4, 0, 8, 0.0), (8, 3, 8, 0.0), (8, 3, 4, 0.0), (4, 0, 4, 0.0), (4, 0, 0, 0.0), (0, 0, 0, 0.0), (0, 0, 4, 0.0), (4, 0, 4, 0.0), (4, 0, 4, 0.0), (4, 0, 8, 0.0), (8, 3, 4, 0.0), (4, 0, 4, 0.0), (4, 0, 4, 0.0), (4, 0, 0, 0.0), (0, 0, 0, 0.0), (0, 0, 0, 0.0), (0, 0, 0, 0.0), (0, 0, 0, 0.0), (0, 0, 4, 0.0), (4, 0, 0, 0.0), (0, 0, 0, 0.0), (0, 0, 0, 0.0), (0, 0, 0, 0.0), (0, 0, 0, 0.0), (0, 0, 0, 0.0), (0, 0, 4, 0.0), (4, 0, 4, 0.0), (4, 0, 4, 0.0), (4, 0, 8, 0.0), (8, 3, 9, 0.0), (9, 1, 8, 0.0), (8, 3, 9, 0.0), (9, 1, 10, 0.0), (10, 0, 9, 0.0), (9, 1, 8, 0.0), (8, 3, 4, 0.0), (4, 0, 0, 0.0), (0, 0, 4, 0.0), (4, 0, 4, 0.0), (4, 0, 4, 0.0), (4, 0, 0, 0.0), (0, 0, 0, 0.0), (0, 0, 0, 0.0), (0, 0, 0, 0.0), (0, 0, 0, 0.0), (0, 0, 4, 0.0), (4, 0, 8, 0.0), (8, 3, 8, 0.0), (8, 3, 9, 0.0), (9, 1, 10, 0.0), (10, 0, 14, 0.0), (14, 1, 15, 1.0)]\n",
            "training_episode=(i=2):\n",
            "[(0, 0, 0, 0.0), (0, 0, 0, 0.0), (0, 0, 4, 0.0), (4, 0, 4, 0.0), (4, 0, 0, 0.0), (0, 0, 0, 0.0), (0, 0, 0, 0.0), (0, 0, 0, 0.0), (0, 0, 4, 0.0), (4, 0, 8, 0.0), (8, 3, 8, 0.0), (8, 3, 4, 0.0), (4, 0, 4, 0.0), (4, 0, 4, 0.0), (4, 0, 4, 0.0), (4, 0, 0, 0.0), (0, 0, 0, 0.0), (0, 0, 0, 0.0), (0, 0, 0, 0.0), (0, 0, 0, 0.0), (0, 0, 0, 0.0), (0, 0, 0, 0.0), (0, 0, 0, 0.0), (0, 0, 0, 0.0), (0, 0, 4, 0.0), (4, 0, 4, 0.0), (4, 0, 4, 0.0), (4, 0, 4, 0.0), (4, 0, 0, 0.0), (0, 0, 4, 0.0), (4, 0, 4, 0.0), (4, 0, 8, 0.0), (8, 3, 9, 0.0), (9, 1, 13, 0.0), (13, 2, 14, 0.0), (14, 1, 15, 1.0)]\n",
            "training_episode=(i=3):\n",
            "[(0, 0, 0, 0.0), (0, 0, 0, 0.0), (0, 0, 0, 0.0), (0, 0, 0, 0.0), (0, 0, 0, 0.0), (0, 0, 0, 0.0), (0, 0, 4, 0.0), (4, 0, 8, 0.0), (8, 3, 9, 0.0), (9, 1, 13, 0.0), (13, 2, 13, 0.0), (13, 2, 9, 0.0), (9, 1, 8, 0.0), (8, 3, 4, 0.0), (4, 0, 8, 0.0), (8, 3, 8, 0.0), (8, 3, 9, 0.0), (9, 1, 10, 0.0), (10, 0, 6, 0.0), (6, 0, 2, 0.0), (2, 0, 1, 0.0), (1, 3, 1, 0.0), (1, 3, 0, 0.0), (0, 0, 4, 0.0), (4, 0, 0, 0.0), (0, 0, 4, 0.0), (4, 0, 0, 0.0), (0, 0, 0, 0.0), (0, 0, 0, 0.0), (0, 0, 4, 0.0), (4, 0, 0, 0.0), (0, 0, 0, 0.0), (0, 0, 0, 0.0), (0, 0, 4, 0.0), (4, 0, 8, 0.0), (8, 3, 8, 0.0), (8, 3, 8, 0.0), (8, 3, 8, 0.0), (8, 3, 4, 0.0), (4, 0, 0, 0.0), (0, 0, 4, 0.0), (4, 0, 4, 0.0), (4, 0, 4, 0.0), (4, 0, 0, 0.0), (0, 0, 4, 0.0), (4, 0, 0, 0.0), (0, 0, 4, 0.0), (4, 0, 0, 0.0), (0, 0, 0, 0.0), (0, 0, 4, 0.0), (4, 0, 0, 0.0), (0, 0, 0, 0.0), (0, 0, 0, 0.0), (0, 0, 4, 0.0), (4, 0, 0, 0.0), (0, 0, 0, 0.0), (0, 0, 4, 0.0), (4, 0, 8, 0.0), (8, 3, 4, 0.0), (4, 0, 0, 0.0), (0, 0, 0, 0.0), (0, 0, 0, 0.0), (0, 0, 0, 0.0), (0, 0, 4, 0.0), (4, 0, 0, 0.0), (0, 0, 0, 0.0), (0, 0, 4, 0.0), (4, 0, 4, 0.0), (4, 0, 0, 0.0), (0, 0, 4, 0.0), (4, 0, 8, 0.0), (8, 3, 8, 0.0), (8, 3, 9, 0.0), (9, 1, 8, 0.0), (8, 3, 8, 0.0), (8, 3, 4, 0.0), (4, 0, 0, 0.0), (0, 0, 0, 0.0), (0, 0, 0, 0.0), (0, 0, 4, 0.0), (4, 0, 0, 0.0), (0, 0, 4, 0.0), (4, 0, 0, 0.0), (0, 0, 0, 0.0), (0, 0, 0, 0.0), (0, 0, 0, 0.0), (0, 0, 0, 0.0), (0, 0, 0, 0.0), (0, 0, 4, 0.0), (4, 0, 4, 0.0), (4, 0, 8, 0.0), (8, 3, 8, 0.0), (8, 3, 4, 0.0), (4, 0, 8, 0.0), (8, 3, 9, 0.0), (9, 1, 8, 0.0), (8, 3, 8, 0.0), (8, 3, 8, 0.0), (8, 3, 9, 0.0), (9, 1, 13, 0.0)]\n",
            "training_episode=(i=4):\n",
            "[(0, 0, 4, 0.0), (4, 0, 4, 0.0), (4, 0, 4, 0.0), (4, 0, 4, 0.0), (4, 0, 4, 0.0), (4, 0, 4, 0.0), (4, 0, 8, 0.0), (8, 3, 4, 0.0), (4, 0, 0, 0.0), (0, 0, 0, 0.0), (0, 0, 4, 0.0), (4, 0, 8, 0.0), (8, 3, 9, 0.0), (9, 1, 8, 0.0), (8, 3, 4, 0.0), (4, 0, 0, 0.0), (0, 0, 4, 0.0), (4, 0, 0, 0.0), (0, 0, 0, 0.0), (0, 0, 4, 0.0), (4, 0, 0, 0.0), (0, 0, 0, 0.0), (0, 0, 0, 0.0), (0, 0, 0, 0.0), (0, 0, 0, 0.0), (0, 0, 0, 0.0), (0, 0, 0, 0.0), (0, 0, 0, 0.0), (0, 0, 0, 0.0), (0, 0, 4, 0.0), (4, 0, 4, 0.0), (4, 0, 0, 0.0), (0, 0, 0, 0.0), (0, 0, 4, 0.0), (4, 0, 8, 0.0), (8, 3, 9, 0.0), (9, 1, 8, 0.0), (8, 3, 9, 0.0), (9, 1, 8, 0.0), (8, 3, 4, 0.0), (4, 0, 4, 0.0), (4, 0, 0, 0.0), (0, 0, 0, 0.0), (0, 0, 0, 0.0), (0, 0, 0, 0.0), (0, 0, 4, 0.0), (4, 0, 0, 0.0), (0, 0, 4, 0.0), (4, 0, 0, 0.0), (0, 0, 4, 0.0), (4, 0, 8, 0.0), (8, 3, 8, 0.0), (8, 3, 8, 0.0), (8, 3, 8, 0.0), (8, 3, 4, 0.0), (4, 0, 8, 0.0), (8, 3, 9, 0.0), (9, 1, 13, 0.0), (13, 2, 14, 0.0), (14, 1, 15, 1.0)]\n"
          ]
        }
      ]
    },
    {
      "cell_type": "markdown",
      "source": [
        "# Direct Evaluation\n",
        "\n",
        "## Evaluate Single Episode"
      ],
      "metadata": {
        "id": "f_yt-sIhrGwJ"
      }
    },
    {
      "cell_type": "code",
      "source": [
        "def EvaluateEpisode(env, e, V_DE, V_Counts, gamma=0.9):\n",
        "    future_reward = 0\n",
        "    for t in reversed(e):  # Iterate in reverse order\n",
        "        future_reward = t[3] + gamma * future_reward\n",
        "        V_DE[t[0]] = future_reward+V_DE[t[0]]\n",
        "        V_Counts[t[0]] = V_Counts[t[0]]+1\n",
        "    return V_DE, V_Counts"
      ],
      "metadata": {
        "id": "jB40XhParIyD"
      },
      "execution_count": null,
      "outputs": []
    },
    {
      "cell_type": "markdown",
      "source": [
        "## Evaluate Episode 1\n",
        "\n"
      ],
      "metadata": {
        "id": "NRQJmwWJ3E0u"
      }
    },
    {
      "cell_type": "code",
      "source": [
        "V_DE = np.zeros((env.observation_space.n))\n",
        "V_Counts = np.zeros((env.observation_space.n))\n",
        "V_DE, V_Count = EvaluateEpisode(env, training_episodes[0], V_DE, V_Counts, 0.9)\n",
        "V = np.where(V_Counts != 0, V_DE / V_Counts, 0)\n",
        "print (f\"V_DE=\\n{V_DE.reshape((4,4))}\")\n",
        "print (f\"V_Counts=\\n{V_Counts.reshape((4,4))}\")\n",
        "print (f\"V=\\n{V.reshape((4,4))}\")"
      ],
      "metadata": {
        "colab": {
          "base_uri": "https://localhost:8080/"
        },
        "id": "FaUV7MWJ29oe",
        "outputId": "f8e660ae-6a5a-4772-c9c9-4b7b53718240"
      },
      "execution_count": null,
      "outputs": [
        {
          "output_type": "stream",
          "name": "stdout",
          "text": [
            "V_DE=\n",
            "[[0.59049 0.      0.      0.     ]\n",
            " [0.6561  0.      0.      0.     ]\n",
            " [0.729   0.81    0.9     0.     ]\n",
            " [0.      0.      1.      0.     ]]\n",
            "V_Counts=\n",
            "[[1. 0. 0. 0.]\n",
            " [1. 0. 0. 0.]\n",
            " [1. 1. 1. 0.]\n",
            " [0. 0. 1. 0.]]\n",
            "V=\n",
            "[[0.59049 0.      0.      0.     ]\n",
            " [0.6561  0.      0.      0.     ]\n",
            " [0.729   0.81    0.9     0.     ]\n",
            " [0.      0.      1.      0.     ]]\n"
          ]
        },
        {
          "output_type": "stream",
          "name": "stderr",
          "text": [
            "<ipython-input-9-000a7187090b>:4: RuntimeWarning: invalid value encountered in divide\n",
            "  V = np.where(V_Counts != 0, V_DE / V_Counts, 0)\n"
          ]
        }
      ]
    },
    {
      "cell_type": "markdown",
      "source": [
        "## Evaluate All Episodes"
      ],
      "metadata": {
        "id": "wlbXCln-4EXX"
      }
    },
    {
      "cell_type": "code",
      "source": [
        "V_DE = np.zeros((env.observation_space.n))\n",
        "V_Counts = np.zeros((env.observation_space.n))\n",
        "for e in training_episodes2:\n",
        "    V_DE, V_Count = EvaluateEpisode(env, e, V_DE, V_Counts, 0.9)\n",
        "V = np.where(V_Counts != 0, V_DE / V_Counts, 0)\n",
        "print (f\"V_DE=\\n{V_DE.reshape((4,4))}\")\n",
        "print (f\"V_Counts=\\n{V_Counts.reshape((4,4))}\")\n",
        "print (f\"V_DirectEvaluation=\\n{np.round(V.reshape((4,4)),2)}\")\n",
        "print (f\"optimal policy= \\n{optimal_policy.reshape((4,4))}\\n optimal_V=\\n{np.round(optimal_V.reshape((4,4)), 2)}\")"
      ],
      "metadata": {
        "colab": {
          "base_uri": "https://localhost:8080/"
        },
        "id": "9OswEPertn95",
        "outputId": "b5250b6b-18dc-430a-c99c-f660a476f514"
      },
      "execution_count": null,
      "outputs": [
        {
          "output_type": "stream",
          "name": "stdout",
          "text": [
            "V_DE=\n",
            "[[ 879.44773993   12.02033939   32.45370905    0.        ]\n",
            " [ 910.67996731    0.           63.889207      0.        ]\n",
            " [ 943.61931212  887.58499323  418.52594351    0.        ]\n",
            " [   0.         1065.13267976 1369.46029196    0.        ]]\n",
            "V_Counts=\n",
            "[[12819.   227.   503.     0.]\n",
            " [ 9779.     0.   646.     0.]\n",
            " [ 6632.  3600.  1432.     0.]\n",
            " [    0.  2876.  2159.     0.]]\n",
            "V_DirectEvaluation=\n",
            "[[0.07 0.05 0.06 0.  ]\n",
            " [0.09 0.   0.1  0.  ]\n",
            " [0.14 0.25 0.29 0.  ]\n",
            " [0.   0.37 0.63 0.  ]]\n",
            "optimal policy= \n",
            "[[0 3 0 3]\n",
            " [0 0 0 0]\n",
            " [3 1 0 0]\n",
            " [0 2 1 0]]\n",
            " optimal_V=\n",
            "[[0.07 0.06 0.07 0.06]\n",
            " [0.09 0.   0.11 0.  ]\n",
            " [0.15 0.25 0.3  0.  ]\n",
            " [0.   0.38 0.64 0.  ]]\n"
          ]
        },
        {
          "output_type": "stream",
          "name": "stderr",
          "text": [
            "<ipython-input-10-440a84a75783>:5: RuntimeWarning: invalid value encountered in divide\n",
            "  V = np.where(V_Counts != 0, V_DE / V_Counts, 0)\n"
          ]
        }
      ]
    },
    {
      "cell_type": "markdown",
      "source": [
        "Step 1: Implementing Basic Q-Learning with Epsilon-Greedy\n",
        "Q-Learning Algorithm Implementation:\n",
        "- Initialize the Q-table with zeros.\n",
        "- For each episode, choose an action using the epsilon-greedy strategy.\n",
        "- Update the Q-value for the state-action pair using the Q-learning update rule"
      ],
      "metadata": {
        "id": "kba9fulx8bBu"
      }
    },
    {
      "cell_type": "code",
      "source": [
        "import numpy as np\n",
        "import gym\n",
        "import random\n",
        "\n",
        "def q_learning(env, num_episodes=1000, alpha=0.1, gamma=0.99, epsilon=1.0, epsilon_decay=0.995, min_epsilon=0.01):\n",
        "    \"\"\"\n",
        "    Q-Learning with Epsilon-Greedy action selection.\n",
        "    \"\"\"\n",
        "    # Initialize Q-table with zeros\n",
        "    Q = np.zeros((env.observation_space.n, env.action_space.n))\n",
        "\n",
        "    for episode in range(num_episodes):\n",
        "        state = env.reset()\n",
        "        done = False\n",
        "        total_reward = 0\n",
        "\n",
        "        while not done:\n",
        "            # Epsilon-greedy action selection\n",
        "            if random.uniform(0, 1) < epsilon:\n",
        "                action = env.action_space.sample()  # Explore\n",
        "            else:\n",
        "                action = np.argmax(Q[state])  # Exploit\n",
        "\n",
        "            # Take action and observe reward and next state\n",
        "            next_state, reward, done, _ = env.step(action)\n",
        "\n",
        "            # Q-Learning update rule\n",
        "            Q[state, action] = Q[state, action] + alpha * (reward + gamma * np.max(Q[next_state]) - Q[state, action])\n",
        "\n",
        "            state = next_state\n",
        "            total_reward += reward\n",
        "\n",
        "        # Decaying epsilon after each episode\n",
        "        epsilon = max(min_epsilon, epsilon * epsilon_decay)\n",
        "\n",
        "    # Extract the optimal policy from the Q-table\n",
        "    optimal_policy = np.argmax(Q, axis=1)\n",
        "\n",
        "    return Q, optimal_policy\n",
        "\n",
        "# Create the environment\n",
        "env = gym.make('FrozenLake-v1')\n",
        "\n",
        "# Apply Q-Learning algorithm\n",
        "Q, optimal_policy_q_learning = q_learning(env)\n",
        "\n",
        "# Compare with Value Iteration\n",
        "optimal_V_value_iteration, optimal_policy_value_iteration = value_iteration(env)\n",
        "\n",
        "# Display policies\n",
        "print(f\"Optimal Policy (Q-Learning):\\n{optimal_policy_q_learning.reshape((4, 4))}\")\n",
        "print(f\"Optimal Policy (Value Iteration):\\n{optimal_policy_value_iteration.reshape((4, 4))}\")\n"
      ],
      "metadata": {
        "id": "RXvxQrn78Qe9",
        "outputId": "6dad6f09-c7db-47cc-b876-44d09866acec",
        "colab": {
          "base_uri": "https://localhost:8080/"
        }
      },
      "execution_count": null,
      "outputs": [
        {
          "output_type": "stream",
          "name": "stdout",
          "text": [
            "Optimal Policy (Q-Learning):\n",
            "[[0 1 0 3]\n",
            " [0 0 0 0]\n",
            " [3 1 0 0]\n",
            " [0 2 3 0]]\n",
            "Optimal Policy (Value Iteration):\n",
            "[[0 3 0 3]\n",
            " [0 0 0 0]\n",
            " [3 1 0 0]\n",
            " [0 2 1 0]]\n"
          ]
        }
      ]
    },
    {
      "cell_type": "markdown",
      "source": [
        "Step 2: Adding Exploration Function and Decaying Epsilon\n",
        "To encourage exploration of less-visited states, we can introduce an exploration function that rewards state-action pairs with lower visitation count.\n",
        "Exploration Function: we can add an exploration bonus to encourage visiting less-explored state-action pairs.\n",
        "Decaying Epsilon: Gradually decreasing epsilon over time to favor exploitation over exploration as the agent learns more."
      ],
      "metadata": {
        "id": "MLoJtCxW8hSP"
      }
    },
    {
      "cell_type": "code",
      "source": [
        "def q_learning_with_optimizations(env, num_episodes=1000, alpha=0.1, gamma=0.99, epsilon=1.0, epsilon_decay=0.995, min_epsilon=0.01, exploration_bonus=1.0):\n",
        "    \"\"\"\n",
        "    Q-Learning with Epsilon-Greedy action selection and exploration bonus.\n",
        "    \"\"\"\n",
        "    # Initialize Q-table and visit counts\n",
        "    Q = np.zeros((env.observation_space.n, env.action_space.n))\n",
        "    visit_count = np.zeros((env.observation_space.n, env.action_space.n))\n",
        "\n",
        "    for episode in range(num_episodes):\n",
        "        state = env.reset()\n",
        "        done = False\n",
        "\n",
        "        while not done:\n",
        "            # Epsilon-greedy action selection with exploration bonus\n",
        "            if random.uniform(0, 1) < epsilon:\n",
        "                action = env.action_space.sample()  # Explore\n",
        "            else:\n",
        "                # Add exploration bonus for less-visited actions\n",
        "                exploration_values = Q[state] + exploration_bonus / (visit_count[state] + 1)\n",
        "                action = np.argmax(exploration_values)\n",
        "\n",
        "            # Take action and observe reward and next state\n",
        "            next_state, reward, done, _ = env.step(action)\n",
        "\n",
        "            # Update visit count for this state-action pair\n",
        "            visit_count[state, action] += 1\n",
        "\n",
        "            # Q-Learning update rule\n",
        "            Q[state, action] = Q[state, action] + alpha * (reward + gamma * np.max(Q[next_state]) - Q[state, action])\n",
        "\n",
        "            state = next_state\n",
        "\n",
        "        # Decaying epsilon after each episode\n",
        "        epsilon = max(min_epsilon, epsilon * epsilon_decay)\n",
        "\n",
        "    # Extract the optimal policy from the Q-table\n",
        "    optimal_policy = np.argmax(Q, axis=1)\n",
        "\n",
        "    return Q, optimal_policy\n",
        "\n",
        "# Apply Q-Learning with exploration function and decaying epsilon\n",
        "Q_optimized, optimal_policy_q_learning_optimized = q_learning_with_optimizations(env)\n",
        "\n",
        "# Compare with Value Iteration and Q-Learning without optimizations\n",
        "print(f\"Optimal Policy (Q-Learning with Optimizations):\\n{optimal_policy_q_learning_optimized.reshape((4, 4))}\")\n"
      ],
      "metadata": {
        "id": "WyA0cbEf8TJz",
        "outputId": "b6df2c2e-2518-4dbf-a6a4-98d013f1ad6c",
        "colab": {
          "base_uri": "https://localhost:8080/"
        }
      },
      "execution_count": null,
      "outputs": [
        {
          "output_type": "stream",
          "name": "stdout",
          "text": [
            "Optimal Policy (Q-Learning with Optimizations):\n",
            "[[0 0 2 1]\n",
            " [0 0 1 0]\n",
            " [3 1 0 0]\n",
            " [0 2 1 0]]\n"
          ]
        }
      ]
    },
    {
      "cell_type": "markdown",
      "source": [
        "Step 3: Comparing Results\n",
        "After running both the standard Q-learning and the optimized Q-learning, we can compare the learned policies and state values to the ones found via Value Iteration"
      ],
      "metadata": {
        "id": "A3ZlloVw8tbS"
      }
    },
    {
      "cell_type": "code",
      "source": [
        "# Compare policies\n",
        "print(f\"Optimal Policy (Q-Learning):\\n{optimal_policy_q_learning.reshape((4, 4))}\")\n",
        "print(f\"Optimal Policy (Q-Learning with Optimizations):\\n{optimal_policy_q_learning_optimized.reshape((4, 4))}\")\n",
        "print(f\"Optimal Policy (Value Iteration):\\n{optimal_policy_value_iteration.reshape((4, 4))}\")\n",
        "\n",
        "# Compare values (optional, to see how close they are)\n",
        "print(f\"Optimal State Values (Q-Learning):\\n{np.max(Q, axis=1).reshape((4, 4))}\")\n",
        "print(f\"Optimal State Values (Q-Learning with Optimizations):\\n{np.max(Q_optimized, axis=1).reshape((4, 4))}\")\n",
        "print(f\"Optimal State Values (Value Iteration):\\n{optimal_V_value_iteration.reshape((4, 4))}\")\n"
      ],
      "metadata": {
        "id": "GFm_PhQN8Wqy",
        "outputId": "43c93c12-ce10-4eb4-a650-fcb570fb006d",
        "colab": {
          "base_uri": "https://localhost:8080/"
        }
      },
      "execution_count": null,
      "outputs": [
        {
          "output_type": "stream",
          "name": "stdout",
          "text": [
            "Optimal Policy (Q-Learning):\n",
            "[[0 1 0 3]\n",
            " [0 0 0 0]\n",
            " [3 1 0 0]\n",
            " [0 2 3 0]]\n",
            "Optimal Policy (Q-Learning with Optimizations):\n",
            "[[0 0 2 1]\n",
            " [0 0 1 0]\n",
            " [3 1 0 0]\n",
            " [0 2 1 0]]\n",
            "Optimal Policy (Value Iteration):\n",
            "[[0 3 0 3]\n",
            " [0 0 0 0]\n",
            " [3 1 0 0]\n",
            " [0 2 1 0]]\n",
            "Optimal State Values (Q-Learning):\n",
            "[[0.43597474 0.16332051 0.19790325 0.03220821]\n",
            " [0.45452098 0.         0.23384514 0.        ]\n",
            " [0.48652538 0.52936575 0.53954152 0.        ]\n",
            " [0.         0.64641809 0.82162291 0.        ]]\n",
            "Optimal State Values (Q-Learning with Optimizations):\n",
            "[[5.25284400e-01 2.86033427e-01 2.83358505e-02 6.93269029e-04]\n",
            " [5.45173067e-01 0.00000000e+00 2.43500452e-01 0.00000000e+00]\n",
            " [5.80125987e-01 6.52420245e-01 6.16554572e-01 0.00000000e+00]\n",
            " [0.00000000e+00 7.71485685e-01 8.67061475e-01 0.00000000e+00]]\n",
            "Optimal State Values (Value Iteration):\n",
            "[[0.0688909  0.06141457 0.07440976 0.05580732]\n",
            " [0.09185454 0.         0.11220821 0.        ]\n",
            " [0.14543635 0.24749695 0.29961759 0.        ]\n",
            " [0.         0.3799359  0.63902015 0.        ]]\n"
          ]
        }
      ]
    },
    {
      "cell_type": "markdown",
      "source": [
        "Step 4: Discussion\n",
        "\n",
        "Finally, we can analyze the results to see how Q-learning with and without optimizations compares to value iteration in terms of the learned policy and value of states. The exploration function and decaying epsilon should help balance exploration and exploitation, potentially leading to faster convergence or more stable learning.\n",
        "\n"
      ],
      "metadata": {
        "id": "1qYpPOqJ8x4x"
      }
    }
  ]
}